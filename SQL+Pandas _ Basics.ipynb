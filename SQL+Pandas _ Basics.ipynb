{
 "cells": [
  {
   "cell_type": "markdown",
   "metadata": {
    "id": "uGvAzElNngKd"
   },
   "source": [
    "#Using Local Server"
   ]
  },
  {
   "cell_type": "markdown",
   "metadata": {
    "id": "MCb2Qk4Fpajc"
   },
   "source": [
    "## Install MySQL"
   ]
  },
  {
   "cell_type": "code",
   "execution_count": 1,
   "metadata": {
    "colab": {
     "base_uri": "https://localhost:8080/"
    },
    "executionInfo": {
     "elapsed": 43196,
     "status": "ok",
     "timestamp": 1645265586485,
     "user": {
      "displayName": "Antarlin Chanda",
      "photoUrl": "https://lh3.googleusercontent.com/a/default-user=s64",
      "userId": "03652757900141092475"
     },
     "user_tz": -330
    },
    "id": "Lz9UOPeupctr",
    "outputId": "3398451f-83ff-4dc6-8ecf-02a6ea4fb202"
   },
   "outputs": [
    {
     "name": "stdout",
     "output_type": "stream",
     "text": [
      "\n",
      "WARNING: apt does not have a stable CLI interface. Use with caution in scripts.\n",
      "\n",
      "\n",
      "WARNING: apt does not have a stable CLI interface. Use with caution in scripts.\n",
      "\n",
      " * Stopping MySQL database server mysqld\n",
      "   ...done.\n",
      " * Starting MySQL database server mysqld\n",
      "No directory, logging in with HOME=/\n",
      "   ...done.\n",
      "+--------------------+\n",
      "| Database           |\n",
      "+--------------------+\n",
      "| information_schema |\n",
      "| mysql              |\n",
      "| performance_schema |\n",
      "| praxisDB           |\n",
      "| sys                |\n",
      "+--------------------+\n"
     ]
    }
   ],
   "source": [
    "!apt update > /dev/null\n",
    "!apt install -y  mysql-server > /dev/null\n",
    "!/etc/init.d/mysql restart\n",
    "!mysql -e 'create database praxisDB'\n",
    "!mysql -e 'show databases'"
   ]
  },
  {
   "cell_type": "markdown",
   "metadata": {
    "id": "K4I8Db7_sjSf"
   },
   "source": [
    "#Using Remote Server"
   ]
  },
  {
   "cell_type": "markdown",
   "metadata": {
    "id": "QLLUcW5js8lc"
   },
   "source": [
    "## Set Public Credentials"
   ]
  },
  {
   "cell_type": "code",
   "execution_count": 2,
   "metadata": {
    "colab": {
     "base_uri": "https://localhost:8080/"
    },
    "executionInfo": {
     "elapsed": 11,
     "status": "ok",
     "timestamp": 1645265586486,
     "user": {
      "displayName": "Antarlin Chanda",
      "photoUrl": "https://lh3.googleusercontent.com/a/default-user=s64",
      "userId": "03652757900141092475"
     },
     "user_tz": -330
    },
    "id": "sz5ZbznNs_0J",
    "outputId": "4e3cbb1e-d211-4184-b8ec-968c97855077"
   },
   "outputs": [
    {
     "name": "stdout",
     "output_type": "stream",
     "text": [
      "bs60agfnio41zyqiaieh-mysql.services.clever-cloud.com uhkr8jnu80yg2iqy bs60agfnio41zyqiaieh\n"
     ]
    }
   ],
   "source": [
    "# enter credentials here\n",
    "hostName = 'bs60agfnio41zyqiaieh-mysql.services.clever-cloud.com'   # place your own credentials here\n",
    "userName = 'uhkr8jnu80yg2iqy'      # place your own credentials here\n",
    "passWord = 'AJwBRu6wGjKYbXwLpXjq'      # place your own credentials here\n",
    "dbName =  'bs60agfnio41zyqiaieh'         # place your own credentials here\n",
    "\n",
    "print(hostName,userName,dbName)"
   ]
  },
  {
   "cell_type": "markdown",
   "metadata": {
    "id": "2n05YF-8tBNW"
   },
   "source": [
    "## Set Private Credentials"
   ]
  },
  {
   "cell_type": "code",
   "execution_count": null,
   "metadata": {
    "colab": {
     "base_uri": "https://localhost:8080/"
    },
    "id": "7teZGFeztEwd",
    "outputId": "d87c4799-f344-493a-9177-d45aaa7e201c"
   },
   "outputs": [
    {
     "name": "stdout",
     "output_type": "stream",
     "text": [
      "Mounted at /content/drive\n",
      "bq3ojarbqgmkc7prtopv-mysql.services.clever-cloud.com uxnhrnbgcu47thlz LEEP91xTUEKq36h2DyzT bq3ojarbqgmkc7prtopv\n"
     ]
    }
   ],
   "source": [
    "#connect to G-Drive\n",
    "from google.colab import drive\n",
    "drive.mount('/content/drive')\n",
    "# copy credentials file\n",
    "#!ls /content/drive/'My Drive'/Praxis/WebCredentials\n",
    "#!cp /content/drive/'My Drive'/Praxis/WebCredentials/sqlCredentials_020221.py .\n",
    "!cp /content/drive/'My Drive'/Praxis/WebCredentials/cleverCloud.py credentials.py\n",
    "from credentials import hostName,userName,passWord,dbName\n",
    "\n",
    "#for the sake of privacy\n",
    "#the following credentials need to be stored in a text file called sqlCredentials.py\n",
    "#in the format given below\n",
    "#in the Colab VM\n",
    "\n",
    "\n",
    "print(hostName,userName,passWord,dbName)"
   ]
  },
  {
   "cell_type": "code",
   "execution_count": 3,
   "metadata": {
    "colab": {
     "base_uri": "https://localhost:8080/"
    },
    "executionInfo": {
     "elapsed": 678,
     "status": "ok",
     "timestamp": 1645265587156,
     "user": {
      "displayName": "Antarlin Chanda",
      "photoUrl": "https://lh3.googleusercontent.com/a/default-user=s64",
      "userId": "03652757900141092475"
     },
     "user_tz": -330
    },
    "id": "i2vFdWuKth1y",
    "outputId": "731e94f2-97e5-48b8-c08c-ef5cebedf936"
   },
   "outputs": [
    {
     "name": "stdout",
     "output_type": "stream",
     "text": [
      "mysql: [Warning] Using a password on the command line interface can be insecure.\n",
      "+--------------------------------+\n",
      "| Tables_in_bs60agfnio41zyqiaieh |\n",
      "+--------------------------------+\n",
      "| CarSalesFact2                  |\n",
      "| Dept                           |\n",
      "| Emp                            |\n",
      "| EmpDataCols                    |\n",
      "| KeyValueTable                  |\n",
      "| dept2                          |\n",
      "| emp2                           |\n",
      "| emp3                           |\n",
      "| v_dept1                        |\n",
      "| v_dept2                        |\n",
      "| v_employee                     |\n",
      "+--------------------------------+\n"
     ]
    }
   ],
   "source": [
    "#NOTE SECURITY WARNING\n",
    "#Passing passwords in the command line is inherently risky and SHOULD NOT BE USED for any non-trivial work\n",
    "#---------------------------------------------------------------------\n",
    "!mysql -h '$hostName' -P 3306 -u '$userName' -p'$passWord' '$dbName' -e 'show tables'"
   ]
  },
  {
   "cell_type": "markdown",
   "metadata": {
    "id": "eIoTpY-HBFLL"
   },
   "source": [
    "# Pythons Functions for SQL commands"
   ]
  },
  {
   "cell_type": "code",
   "execution_count": 4,
   "metadata": {
    "colab": {
     "base_uri": "https://localhost:8080/"
    },
    "executionInfo": {
     "elapsed": 15215,
     "status": "ok",
     "timestamp": 1645265602364,
     "user": {
      "displayName": "Antarlin Chanda",
      "photoUrl": "https://lh3.googleusercontent.com/a/default-user=s64",
      "userId": "03652757900141092475"
     },
     "user_tz": -330
    },
    "id": "muMYozz1D-EC",
    "outputId": "5a629786-df4d-4b04-8454-bc9611fdec2c"
   },
   "outputs": [
    {
     "name": "stdout",
     "output_type": "stream",
     "text": [
      "\n",
      "WARNING: apt does not have a stable CLI interface. Use with caution in scripts.\n",
      "\n"
     ]
    }
   ],
   "source": [
    "!apt install libmysqlclient-dev > /dev/null\n",
    "!pip install mysqlclient > /dev/null\n",
    "import pandas as pd\n",
    "import MySQLdb"
   ]
  },
  {
   "cell_type": "code",
   "execution_count": 5,
   "metadata": {
    "executionInfo": {
     "elapsed": 22,
     "status": "ok",
     "timestamp": 1645265602365,
     "user": {
      "displayName": "Antarlin Chanda",
      "photoUrl": "https://lh3.googleusercontent.com/a/default-user=s64",
      "userId": "03652757900141092475"
     },
     "user_tz": -330
    },
    "id": "NVDDq2VmBgQH"
   },
   "outputs": [],
   "source": [
    "#To run any non-SELECT SQL command\n",
    "def runCMD (loc, DDL):\n",
    "    if loc == 'remoteDB':\n",
    "        DBConn = MySQLdb.connect(hostName,userName,passWord,dbName)\n",
    "    elif loc == 'localDB':\n",
    "        DBConn = MySQLdb.connect(db='praxisDB')\n",
    "    else :\n",
    "        print('location must be \"remoteDB or \"localDB\"')\n",
    "    \n",
    "    myCursor = DBConn.cursor()\n",
    "    retcode = myCursor.execute(DDL) \n",
    "    print (retcode)\n",
    "    DBConn.commit()\n",
    "    DBConn.close()\n",
    "\n",
    "#To run any SELECT SQL command\n",
    "def runSELECT (loc, CMD):\n",
    "    if loc == 'remoteDB':\n",
    "        DBConn = MySQLdb.connect(hostName,userName,passWord,dbName)\n",
    "    elif loc == 'localDB':\n",
    "        DBConn = MySQLdb.connect(db='praxisDB')\n",
    "    else :\n",
    "        print('location must be \"remoteDB or \"localDB\"')\n",
    "    \n",
    "    df_mysql = pd.read_sql(CMD, con=DBConn)    \n",
    "    DBConn.close()\n",
    "    return df_mysql"
   ]
  },
  {
   "cell_type": "markdown",
   "metadata": {
    "id": "VIbZ_9LzDS0D"
   },
   "source": [
    "## Create and Load Tables EMP, DEPT"
   ]
  },
  {
   "cell_type": "code",
   "execution_count": 6,
   "metadata": {
    "executionInfo": {
     "elapsed": 22,
     "status": "ok",
     "timestamp": 1645265602366,
     "user": {
      "displayName": "Antarlin Chanda",
      "photoUrl": "https://lh3.googleusercontent.com/a/default-user=s64",
      "userId": "03652757900141092475"
     },
     "user_tz": -330
    },
    "id": "i9G6UTJlDdi9"
   },
   "outputs": [],
   "source": [
    "# Set the location to whichever Database you need to access\n",
    "#\n",
    "# --------------------------------\n",
    "#\n",
    "#location = 'localDB'\n",
    "location = 'remoteDB'"
   ]
  },
  {
   "cell_type": "code",
   "execution_count": 7,
   "metadata": {
    "colab": {
     "base_uri": "https://localhost:8080/"
    },
    "executionInfo": {
     "elapsed": 2660,
     "status": "ok",
     "timestamp": 1645265605005,
     "user": {
      "displayName": "Antarlin Chanda",
      "photoUrl": "https://lh3.googleusercontent.com/a/default-user=s64",
      "userId": "03652757900141092475"
     },
     "user_tz": -330
    },
    "id": "2QA51jPJKGGR",
    "outputId": "b20abb7f-c060-4a32-f3f9-a424c07b46e0"
   },
   "outputs": [
    {
     "name": "stdout",
     "output_type": "stream",
     "text": [
      "0\n",
      "0\n",
      "12\n"
     ]
    }
   ],
   "source": [
    "# Create and load Emp table\n",
    "# -----------------------------\n",
    "runCMD(location,\"DROP TABLE IF EXISTS Emp;\")\n",
    "# -----------------------------\n",
    "runCMD(location,\"CREATE TABLE IF NOT EXISTS Emp (\\\n",
    "  EmpID char(6)  NOT NULL,\\\n",
    "  LastName varchar(50),\\\n",
    "  FirstName varchar(50),\\\n",
    "  JobDesc varchar(50),\\\n",
    "  JoinDate date NOT NULL, \\\n",
    "  Salary int(11) , \\\n",
    "  Comm float , \\\n",
    "  DeptID char(2) \\\n",
    ") ;\")\n",
    "# -----------------------------\n",
    "runCMD(location,\"INSERT INTO Emp (EmpID, LastName, FirstName, JobDesc, JoinDate, Salary, Comm, DeptID) \\\n",
    "    VALUES \\\n",
    "\t('742866', 'Bacchan', 'Amitabh', 'Executive', '2003-03-10', 50000, 0.1, '10'), \\\n",
    "\t('349870', 'Mukherjee', 'Rani', 'Manager', '2005-05-04', 25000, 0.06, '40'), \\\n",
    "\t('865477', 'Dikshit', 'Madhuri', 'Clerk', '2002-04-04', 10000, 0.02, '20'), \\\n",
    "\t('239456', 'Khan', 'Shahrukh', 'Manager', '2004-01-03', 30000, 0.07, '20'), \\\n",
    "\t('897889', 'Sehwag', 'Virender', 'Cus_Rep', '2005-01-02', 15000, 0.05, '20'), \\\n",
    "\t('123980', 'Dhoni', 'Mahender', 'Clerk', '2004-10-09', 9000, 0.02, '40'), \\\n",
    "\t('822134', 'Dravid', 'Rahul', 'Sr Manager', '2000-06-04', 40000, 0.08, '30'), \\\n",
    "\t('997445', 'Dalmia', 'Jagmohan', 'Clerk', '2001-07-01', 12000, 0.02, '30'), \\\n",
    "\t('989007', 'Ganguly', 'Sourav', 'Cus_Rep', '2002-01-01', 20000, 0.03, '40'), \\\n",
    "\t('299034', 'Ganesan', 'Rekha', 'Director', '2002-10-10', 60000, 0.11, '10'), \\\n",
    "\t('546223', 'Karthikeyan', 'Narayan', 'Secretary', '2005-12-04', 40000, 0.09, '10'), \\\n",
    "\t('223112', 'Mirza', 'Sania', 'Cus_Rep', '2001-11-19', 25000, 0.04, '30');\"\n",
    "    )"
   ]
  },
  {
   "cell_type": "code",
   "execution_count": 8,
   "metadata": {
    "colab": {
     "base_uri": "https://localhost:8080/"
    },
    "executionInfo": {
     "elapsed": 3146,
     "status": "ok",
     "timestamp": 1645265608136,
     "user": {
      "displayName": "Antarlin Chanda",
      "photoUrl": "https://lh3.googleusercontent.com/a/default-user=s64",
      "userId": "03652757900141092475"
     },
     "user_tz": -330
    },
    "id": "WpIA5EvzDnCZ",
    "outputId": "c1179831-3f6f-434a-9a2e-c2de25c39769"
   },
   "outputs": [
    {
     "name": "stdout",
     "output_type": "stream",
     "text": [
      "0\n",
      "0\n",
      "4\n"
     ]
    }
   ],
   "source": [
    "# Create and load DEPT table\n",
    "# --------------------------------\n",
    "runCMD(location,\"DROP TABLE IF EXISTS Dept;\")\n",
    "# --------------------------------\n",
    "runCMD(location,\"CREATE TABLE Dept ( \\\n",
    "  DeptID char(2)  NOT NULL, \\\n",
    "  DeptName varchar(50) , \\\n",
    "  ManagerID char(6) , \\\n",
    "  Location varchar(50) \\\n",
    " );\")\n",
    "# --------------------------------\n",
    "runCMD(location,\"INSERT INTO Dept (DeptID, DeptName, ManagerID, Location) VALUES \\\n",
    "\t('10', 'Corporate', '299034', 'Calcutta'), \\\n",
    "\t('20', 'Sales', '239456', 'Calcutta'), \\\n",
    "\t('30', 'Accounts', '822134', 'Calcutta'), \\\n",
    "\t('40', 'Production', '349870', 'Bombay');\")"
   ]
  },
  {
   "cell_type": "code",
   "execution_count": 9,
   "metadata": {
    "colab": {
     "base_uri": "https://localhost:8080/",
     "height": 425
    },
    "executionInfo": {
     "elapsed": 893,
     "status": "ok",
     "timestamp": 1645265609016,
     "user": {
      "displayName": "Antarlin Chanda",
      "photoUrl": "https://lh3.googleusercontent.com/a/default-user=s64",
      "userId": "03652757900141092475"
     },
     "user_tz": -330
    },
    "id": "cGlLnkvnMj3j",
    "outputId": "b7fdf705-dc47-4869-adea-f13e9200f4c7"
   },
   "outputs": [
    {
     "data": {
      "text/html": [
       "\n",
       "  <div id=\"df-b6e9b0cf-523d-4e8a-8593-798b4acaceb5\">\n",
       "    <div class=\"colab-df-container\">\n",
       "      <div>\n",
       "<style scoped>\n",
       "    .dataframe tbody tr th:only-of-type {\n",
       "        vertical-align: middle;\n",
       "    }\n",
       "\n",
       "    .dataframe tbody tr th {\n",
       "        vertical-align: top;\n",
       "    }\n",
       "\n",
       "    .dataframe thead th {\n",
       "        text-align: right;\n",
       "    }\n",
       "</style>\n",
       "<table border=\"1\" class=\"dataframe\">\n",
       "  <thead>\n",
       "    <tr style=\"text-align: right;\">\n",
       "      <th></th>\n",
       "      <th>EmpID</th>\n",
       "      <th>LastName</th>\n",
       "      <th>FirstName</th>\n",
       "      <th>JobDesc</th>\n",
       "      <th>JoinDate</th>\n",
       "      <th>Salary</th>\n",
       "      <th>Comm</th>\n",
       "      <th>DeptID</th>\n",
       "      <th>DeptID</th>\n",
       "      <th>DeptName</th>\n",
       "      <th>ManagerID</th>\n",
       "      <th>Location</th>\n",
       "    </tr>\n",
       "  </thead>\n",
       "  <tbody>\n",
       "    <tr>\n",
       "      <th>0</th>\n",
       "      <td>742866</td>\n",
       "      <td>Bacchan</td>\n",
       "      <td>Amitabh</td>\n",
       "      <td>Executive</td>\n",
       "      <td>2003-03-10</td>\n",
       "      <td>50000</td>\n",
       "      <td>0.10</td>\n",
       "      <td>10</td>\n",
       "      <td>10</td>\n",
       "      <td>Corporate</td>\n",
       "      <td>299034</td>\n",
       "      <td>Calcutta</td>\n",
       "    </tr>\n",
       "    <tr>\n",
       "      <th>1</th>\n",
       "      <td>349870</td>\n",
       "      <td>Mukherjee</td>\n",
       "      <td>Rani</td>\n",
       "      <td>Manager</td>\n",
       "      <td>2005-05-04</td>\n",
       "      <td>25000</td>\n",
       "      <td>0.06</td>\n",
       "      <td>40</td>\n",
       "      <td>40</td>\n",
       "      <td>Production</td>\n",
       "      <td>349870</td>\n",
       "      <td>Bombay</td>\n",
       "    </tr>\n",
       "    <tr>\n",
       "      <th>2</th>\n",
       "      <td>865477</td>\n",
       "      <td>Dikshit</td>\n",
       "      <td>Madhuri</td>\n",
       "      <td>Clerk</td>\n",
       "      <td>2002-04-04</td>\n",
       "      <td>10000</td>\n",
       "      <td>0.02</td>\n",
       "      <td>20</td>\n",
       "      <td>20</td>\n",
       "      <td>Sales</td>\n",
       "      <td>239456</td>\n",
       "      <td>Calcutta</td>\n",
       "    </tr>\n",
       "    <tr>\n",
       "      <th>3</th>\n",
       "      <td>239456</td>\n",
       "      <td>Khan</td>\n",
       "      <td>Shahrukh</td>\n",
       "      <td>Manager</td>\n",
       "      <td>2004-01-03</td>\n",
       "      <td>30000</td>\n",
       "      <td>0.07</td>\n",
       "      <td>20</td>\n",
       "      <td>20</td>\n",
       "      <td>Sales</td>\n",
       "      <td>239456</td>\n",
       "      <td>Calcutta</td>\n",
       "    </tr>\n",
       "    <tr>\n",
       "      <th>4</th>\n",
       "      <td>897889</td>\n",
       "      <td>Sehwag</td>\n",
       "      <td>Virender</td>\n",
       "      <td>Cus_Rep</td>\n",
       "      <td>2005-01-02</td>\n",
       "      <td>15000</td>\n",
       "      <td>0.05</td>\n",
       "      <td>20</td>\n",
       "      <td>20</td>\n",
       "      <td>Sales</td>\n",
       "      <td>239456</td>\n",
       "      <td>Calcutta</td>\n",
       "    </tr>\n",
       "    <tr>\n",
       "      <th>5</th>\n",
       "      <td>123980</td>\n",
       "      <td>Dhoni</td>\n",
       "      <td>Mahender</td>\n",
       "      <td>Clerk</td>\n",
       "      <td>2004-10-09</td>\n",
       "      <td>9000</td>\n",
       "      <td>0.02</td>\n",
       "      <td>40</td>\n",
       "      <td>40</td>\n",
       "      <td>Production</td>\n",
       "      <td>349870</td>\n",
       "      <td>Bombay</td>\n",
       "    </tr>\n",
       "    <tr>\n",
       "      <th>6</th>\n",
       "      <td>822134</td>\n",
       "      <td>Dravid</td>\n",
       "      <td>Rahul</td>\n",
       "      <td>Sr Manager</td>\n",
       "      <td>2000-06-04</td>\n",
       "      <td>40000</td>\n",
       "      <td>0.08</td>\n",
       "      <td>30</td>\n",
       "      <td>30</td>\n",
       "      <td>Accounts</td>\n",
       "      <td>822134</td>\n",
       "      <td>Calcutta</td>\n",
       "    </tr>\n",
       "    <tr>\n",
       "      <th>7</th>\n",
       "      <td>997445</td>\n",
       "      <td>Dalmia</td>\n",
       "      <td>Jagmohan</td>\n",
       "      <td>Clerk</td>\n",
       "      <td>2001-07-01</td>\n",
       "      <td>12000</td>\n",
       "      <td>0.02</td>\n",
       "      <td>30</td>\n",
       "      <td>30</td>\n",
       "      <td>Accounts</td>\n",
       "      <td>822134</td>\n",
       "      <td>Calcutta</td>\n",
       "    </tr>\n",
       "    <tr>\n",
       "      <th>8</th>\n",
       "      <td>989007</td>\n",
       "      <td>Ganguly</td>\n",
       "      <td>Sourav</td>\n",
       "      <td>Cus_Rep</td>\n",
       "      <td>2002-01-01</td>\n",
       "      <td>20000</td>\n",
       "      <td>0.03</td>\n",
       "      <td>40</td>\n",
       "      <td>40</td>\n",
       "      <td>Production</td>\n",
       "      <td>349870</td>\n",
       "      <td>Bombay</td>\n",
       "    </tr>\n",
       "    <tr>\n",
       "      <th>9</th>\n",
       "      <td>299034</td>\n",
       "      <td>Ganesan</td>\n",
       "      <td>Rekha</td>\n",
       "      <td>Director</td>\n",
       "      <td>2002-10-10</td>\n",
       "      <td>60000</td>\n",
       "      <td>0.11</td>\n",
       "      <td>10</td>\n",
       "      <td>10</td>\n",
       "      <td>Corporate</td>\n",
       "      <td>299034</td>\n",
       "      <td>Calcutta</td>\n",
       "    </tr>\n",
       "    <tr>\n",
       "      <th>10</th>\n",
       "      <td>546223</td>\n",
       "      <td>Karthikeyan</td>\n",
       "      <td>Narayan</td>\n",
       "      <td>Secretary</td>\n",
       "      <td>2005-12-04</td>\n",
       "      <td>40000</td>\n",
       "      <td>0.09</td>\n",
       "      <td>10</td>\n",
       "      <td>10</td>\n",
       "      <td>Corporate</td>\n",
       "      <td>299034</td>\n",
       "      <td>Calcutta</td>\n",
       "    </tr>\n",
       "    <tr>\n",
       "      <th>11</th>\n",
       "      <td>223112</td>\n",
       "      <td>Mirza</td>\n",
       "      <td>Sania</td>\n",
       "      <td>Cus_Rep</td>\n",
       "      <td>2001-11-19</td>\n",
       "      <td>25000</td>\n",
       "      <td>0.04</td>\n",
       "      <td>30</td>\n",
       "      <td>30</td>\n",
       "      <td>Accounts</td>\n",
       "      <td>822134</td>\n",
       "      <td>Calcutta</td>\n",
       "    </tr>\n",
       "  </tbody>\n",
       "</table>\n",
       "</div>\n",
       "      <button class=\"colab-df-convert\" onclick=\"convertToInteractive('df-b6e9b0cf-523d-4e8a-8593-798b4acaceb5')\"\n",
       "              title=\"Convert this dataframe to an interactive table.\"\n",
       "              style=\"display:none;\">\n",
       "        \n",
       "  <svg xmlns=\"http://www.w3.org/2000/svg\" height=\"24px\"viewBox=\"0 0 24 24\"\n",
       "       width=\"24px\">\n",
       "    <path d=\"M0 0h24v24H0V0z\" fill=\"none\"/>\n",
       "    <path d=\"M18.56 5.44l.94 2.06.94-2.06 2.06-.94-2.06-.94-.94-2.06-.94 2.06-2.06.94zm-11 1L8.5 8.5l.94-2.06 2.06-.94-2.06-.94L8.5 2.5l-.94 2.06-2.06.94zm10 10l.94 2.06.94-2.06 2.06-.94-2.06-.94-.94-2.06-.94 2.06-2.06.94z\"/><path d=\"M17.41 7.96l-1.37-1.37c-.4-.4-.92-.59-1.43-.59-.52 0-1.04.2-1.43.59L10.3 9.45l-7.72 7.72c-.78.78-.78 2.05 0 2.83L4 21.41c.39.39.9.59 1.41.59.51 0 1.02-.2 1.41-.59l7.78-7.78 2.81-2.81c.8-.78.8-2.07 0-2.86zM5.41 20L4 18.59l7.72-7.72 1.47 1.35L5.41 20z\"/>\n",
       "  </svg>\n",
       "      </button>\n",
       "      \n",
       "  <style>\n",
       "    .colab-df-container {\n",
       "      display:flex;\n",
       "      flex-wrap:wrap;\n",
       "      gap: 12px;\n",
       "    }\n",
       "\n",
       "    .colab-df-convert {\n",
       "      background-color: #E8F0FE;\n",
       "      border: none;\n",
       "      border-radius: 50%;\n",
       "      cursor: pointer;\n",
       "      display: none;\n",
       "      fill: #1967D2;\n",
       "      height: 32px;\n",
       "      padding: 0 0 0 0;\n",
       "      width: 32px;\n",
       "    }\n",
       "\n",
       "    .colab-df-convert:hover {\n",
       "      background-color: #E2EBFA;\n",
       "      box-shadow: 0px 1px 2px rgba(60, 64, 67, 0.3), 0px 1px 3px 1px rgba(60, 64, 67, 0.15);\n",
       "      fill: #174EA6;\n",
       "    }\n",
       "\n",
       "    [theme=dark] .colab-df-convert {\n",
       "      background-color: #3B4455;\n",
       "      fill: #D2E3FC;\n",
       "    }\n",
       "\n",
       "    [theme=dark] .colab-df-convert:hover {\n",
       "      background-color: #434B5C;\n",
       "      box-shadow: 0px 1px 3px 1px rgba(0, 0, 0, 0.15);\n",
       "      filter: drop-shadow(0px 1px 2px rgba(0, 0, 0, 0.3));\n",
       "      fill: #FFFFFF;\n",
       "    }\n",
       "  </style>\n",
       "\n",
       "      <script>\n",
       "        const buttonEl =\n",
       "          document.querySelector('#df-b6e9b0cf-523d-4e8a-8593-798b4acaceb5 button.colab-df-convert');\n",
       "        buttonEl.style.display =\n",
       "          google.colab.kernel.accessAllowed ? 'block' : 'none';\n",
       "\n",
       "        async function convertToInteractive(key) {\n",
       "          const element = document.querySelector('#df-b6e9b0cf-523d-4e8a-8593-798b4acaceb5');\n",
       "          const dataTable =\n",
       "            await google.colab.kernel.invokeFunction('convertToInteractive',\n",
       "                                                     [key], {});\n",
       "          if (!dataTable) return;\n",
       "\n",
       "          const docLinkHtml = 'Like what you see? Visit the ' +\n",
       "            '<a target=\"_blank\" href=https://colab.research.google.com/notebooks/data_table.ipynb>data table notebook</a>'\n",
       "            + ' to learn more about interactive tables.';\n",
       "          element.innerHTML = '';\n",
       "          dataTable['output_type'] = 'display_data';\n",
       "          await google.colab.output.renderOutput(dataTable, element);\n",
       "          const docLink = document.createElement('div');\n",
       "          docLink.innerHTML = docLinkHtml;\n",
       "          element.appendChild(docLink);\n",
       "        }\n",
       "      </script>\n",
       "    </div>\n",
       "  </div>\n",
       "  "
      ],
      "text/plain": [
       "     EmpID     LastName FirstName  ...    DeptName ManagerID  Location\n",
       "0   742866      Bacchan   Amitabh  ...   Corporate    299034  Calcutta\n",
       "1   349870    Mukherjee      Rani  ...  Production    349870    Bombay\n",
       "2   865477      Dikshit   Madhuri  ...       Sales    239456  Calcutta\n",
       "3   239456         Khan  Shahrukh  ...       Sales    239456  Calcutta\n",
       "4   897889       Sehwag  Virender  ...       Sales    239456  Calcutta\n",
       "5   123980        Dhoni  Mahender  ...  Production    349870    Bombay\n",
       "6   822134       Dravid     Rahul  ...    Accounts    822134  Calcutta\n",
       "7   997445       Dalmia  Jagmohan  ...    Accounts    822134  Calcutta\n",
       "8   989007      Ganguly    Sourav  ...  Production    349870    Bombay\n",
       "9   299034      Ganesan     Rekha  ...   Corporate    299034  Calcutta\n",
       "10  546223  Karthikeyan   Narayan  ...   Corporate    299034  Calcutta\n",
       "11  223112        Mirza     Sania  ...    Accounts    822134  Calcutta\n",
       "\n",
       "[12 rows x 12 columns]"
      ]
     },
     "execution_count": 9,
     "metadata": {},
     "output_type": "execute_result"
    }
   ],
   "source": [
    "# Check the data\n",
    "# -------------------------------\n",
    "runSELECT(location,\"select * from Emp, Dept where Emp.DeptID = Dept.DeptID\")"
   ]
  },
  {
   "cell_type": "code",
   "execution_count": 10,
   "metadata": {
    "colab": {
     "base_uri": "https://localhost:8080/",
     "height": 425
    },
    "executionInfo": {
     "elapsed": 1068,
     "status": "ok",
     "timestamp": 1645265610074,
     "user": {
      "displayName": "Antarlin Chanda",
      "photoUrl": "https://lh3.googleusercontent.com/a/default-user=s64",
      "userId": "03652757900141092475"
     },
     "user_tz": -330
    },
    "id": "-zcT3TLcNMGQ",
    "outputId": "6d9e86e7-6d1c-4218-c336-5a064b520b91"
   },
   "outputs": [
    {
     "data": {
      "text/html": [
       "\n",
       "  <div id=\"df-04168853-92db-4132-b341-926452bb6520\">\n",
       "    <div class=\"colab-df-container\">\n",
       "      <div>\n",
       "<style scoped>\n",
       "    .dataframe tbody tr th:only-of-type {\n",
       "        vertical-align: middle;\n",
       "    }\n",
       "\n",
       "    .dataframe tbody tr th {\n",
       "        vertical-align: top;\n",
       "    }\n",
       "\n",
       "    .dataframe thead th {\n",
       "        text-align: right;\n",
       "    }\n",
       "</style>\n",
       "<table border=\"1\" class=\"dataframe\">\n",
       "  <thead>\n",
       "    <tr style=\"text-align: right;\">\n",
       "      <th></th>\n",
       "      <th>EmpID</th>\n",
       "      <th>LastName</th>\n",
       "      <th>FirstName</th>\n",
       "      <th>JobDesc</th>\n",
       "      <th>JoinDate</th>\n",
       "      <th>Salary</th>\n",
       "      <th>Comm</th>\n",
       "      <th>DeptID</th>\n",
       "    </tr>\n",
       "  </thead>\n",
       "  <tbody>\n",
       "    <tr>\n",
       "      <th>0</th>\n",
       "      <td>742866</td>\n",
       "      <td>Bacchan</td>\n",
       "      <td>Amitabh</td>\n",
       "      <td>Executive</td>\n",
       "      <td>2003-03-10</td>\n",
       "      <td>50000</td>\n",
       "      <td>0.10</td>\n",
       "      <td>10</td>\n",
       "    </tr>\n",
       "    <tr>\n",
       "      <th>1</th>\n",
       "      <td>349870</td>\n",
       "      <td>Mukherjee</td>\n",
       "      <td>Rani</td>\n",
       "      <td>Manager</td>\n",
       "      <td>2005-05-04</td>\n",
       "      <td>25000</td>\n",
       "      <td>0.06</td>\n",
       "      <td>40</td>\n",
       "    </tr>\n",
       "    <tr>\n",
       "      <th>2</th>\n",
       "      <td>865477</td>\n",
       "      <td>Dikshit</td>\n",
       "      <td>Madhuri</td>\n",
       "      <td>Clerk</td>\n",
       "      <td>2002-04-04</td>\n",
       "      <td>10000</td>\n",
       "      <td>0.02</td>\n",
       "      <td>20</td>\n",
       "    </tr>\n",
       "    <tr>\n",
       "      <th>3</th>\n",
       "      <td>239456</td>\n",
       "      <td>Khan</td>\n",
       "      <td>Shahrukh</td>\n",
       "      <td>Manager</td>\n",
       "      <td>2004-01-03</td>\n",
       "      <td>30000</td>\n",
       "      <td>0.07</td>\n",
       "      <td>20</td>\n",
       "    </tr>\n",
       "    <tr>\n",
       "      <th>4</th>\n",
       "      <td>897889</td>\n",
       "      <td>Sehwag</td>\n",
       "      <td>Virender</td>\n",
       "      <td>Cus_Rep</td>\n",
       "      <td>2005-01-02</td>\n",
       "      <td>15000</td>\n",
       "      <td>0.05</td>\n",
       "      <td>20</td>\n",
       "    </tr>\n",
       "    <tr>\n",
       "      <th>5</th>\n",
       "      <td>123980</td>\n",
       "      <td>Dhoni</td>\n",
       "      <td>Mahender</td>\n",
       "      <td>Clerk</td>\n",
       "      <td>2004-10-09</td>\n",
       "      <td>9000</td>\n",
       "      <td>0.02</td>\n",
       "      <td>40</td>\n",
       "    </tr>\n",
       "    <tr>\n",
       "      <th>6</th>\n",
       "      <td>822134</td>\n",
       "      <td>Dravid</td>\n",
       "      <td>Rahul</td>\n",
       "      <td>Sr Manager</td>\n",
       "      <td>2000-06-04</td>\n",
       "      <td>40000</td>\n",
       "      <td>0.08</td>\n",
       "      <td>30</td>\n",
       "    </tr>\n",
       "    <tr>\n",
       "      <th>7</th>\n",
       "      <td>997445</td>\n",
       "      <td>Dalmia</td>\n",
       "      <td>Jagmohan</td>\n",
       "      <td>Clerk</td>\n",
       "      <td>2001-07-01</td>\n",
       "      <td>12000</td>\n",
       "      <td>0.02</td>\n",
       "      <td>30</td>\n",
       "    </tr>\n",
       "    <tr>\n",
       "      <th>8</th>\n",
       "      <td>989007</td>\n",
       "      <td>Ganguly</td>\n",
       "      <td>Sourav</td>\n",
       "      <td>Cus_Rep</td>\n",
       "      <td>2002-01-01</td>\n",
       "      <td>20000</td>\n",
       "      <td>0.03</td>\n",
       "      <td>40</td>\n",
       "    </tr>\n",
       "    <tr>\n",
       "      <th>9</th>\n",
       "      <td>299034</td>\n",
       "      <td>Ganesan</td>\n",
       "      <td>Rekha</td>\n",
       "      <td>Director</td>\n",
       "      <td>2002-10-10</td>\n",
       "      <td>60000</td>\n",
       "      <td>0.11</td>\n",
       "      <td>10</td>\n",
       "    </tr>\n",
       "    <tr>\n",
       "      <th>10</th>\n",
       "      <td>546223</td>\n",
       "      <td>Karthikeyan</td>\n",
       "      <td>Narayan</td>\n",
       "      <td>Secretary</td>\n",
       "      <td>2005-12-04</td>\n",
       "      <td>40000</td>\n",
       "      <td>0.09</td>\n",
       "      <td>10</td>\n",
       "    </tr>\n",
       "    <tr>\n",
       "      <th>11</th>\n",
       "      <td>223112</td>\n",
       "      <td>Mirza</td>\n",
       "      <td>Sania</td>\n",
       "      <td>Cus_Rep</td>\n",
       "      <td>2001-11-19</td>\n",
       "      <td>25000</td>\n",
       "      <td>0.04</td>\n",
       "      <td>30</td>\n",
       "    </tr>\n",
       "  </tbody>\n",
       "</table>\n",
       "</div>\n",
       "      <button class=\"colab-df-convert\" onclick=\"convertToInteractive('df-04168853-92db-4132-b341-926452bb6520')\"\n",
       "              title=\"Convert this dataframe to an interactive table.\"\n",
       "              style=\"display:none;\">\n",
       "        \n",
       "  <svg xmlns=\"http://www.w3.org/2000/svg\" height=\"24px\"viewBox=\"0 0 24 24\"\n",
       "       width=\"24px\">\n",
       "    <path d=\"M0 0h24v24H0V0z\" fill=\"none\"/>\n",
       "    <path d=\"M18.56 5.44l.94 2.06.94-2.06 2.06-.94-2.06-.94-.94-2.06-.94 2.06-2.06.94zm-11 1L8.5 8.5l.94-2.06 2.06-.94-2.06-.94L8.5 2.5l-.94 2.06-2.06.94zm10 10l.94 2.06.94-2.06 2.06-.94-2.06-.94-.94-2.06-.94 2.06-2.06.94z\"/><path d=\"M17.41 7.96l-1.37-1.37c-.4-.4-.92-.59-1.43-.59-.52 0-1.04.2-1.43.59L10.3 9.45l-7.72 7.72c-.78.78-.78 2.05 0 2.83L4 21.41c.39.39.9.59 1.41.59.51 0 1.02-.2 1.41-.59l7.78-7.78 2.81-2.81c.8-.78.8-2.07 0-2.86zM5.41 20L4 18.59l7.72-7.72 1.47 1.35L5.41 20z\"/>\n",
       "  </svg>\n",
       "      </button>\n",
       "      \n",
       "  <style>\n",
       "    .colab-df-container {\n",
       "      display:flex;\n",
       "      flex-wrap:wrap;\n",
       "      gap: 12px;\n",
       "    }\n",
       "\n",
       "    .colab-df-convert {\n",
       "      background-color: #E8F0FE;\n",
       "      border: none;\n",
       "      border-radius: 50%;\n",
       "      cursor: pointer;\n",
       "      display: none;\n",
       "      fill: #1967D2;\n",
       "      height: 32px;\n",
       "      padding: 0 0 0 0;\n",
       "      width: 32px;\n",
       "    }\n",
       "\n",
       "    .colab-df-convert:hover {\n",
       "      background-color: #E2EBFA;\n",
       "      box-shadow: 0px 1px 2px rgba(60, 64, 67, 0.3), 0px 1px 3px 1px rgba(60, 64, 67, 0.15);\n",
       "      fill: #174EA6;\n",
       "    }\n",
       "\n",
       "    [theme=dark] .colab-df-convert {\n",
       "      background-color: #3B4455;\n",
       "      fill: #D2E3FC;\n",
       "    }\n",
       "\n",
       "    [theme=dark] .colab-df-convert:hover {\n",
       "      background-color: #434B5C;\n",
       "      box-shadow: 0px 1px 3px 1px rgba(0, 0, 0, 0.15);\n",
       "      filter: drop-shadow(0px 1px 2px rgba(0, 0, 0, 0.3));\n",
       "      fill: #FFFFFF;\n",
       "    }\n",
       "  </style>\n",
       "\n",
       "      <script>\n",
       "        const buttonEl =\n",
       "          document.querySelector('#df-04168853-92db-4132-b341-926452bb6520 button.colab-df-convert');\n",
       "        buttonEl.style.display =\n",
       "          google.colab.kernel.accessAllowed ? 'block' : 'none';\n",
       "\n",
       "        async function convertToInteractive(key) {\n",
       "          const element = document.querySelector('#df-04168853-92db-4132-b341-926452bb6520');\n",
       "          const dataTable =\n",
       "            await google.colab.kernel.invokeFunction('convertToInteractive',\n",
       "                                                     [key], {});\n",
       "          if (!dataTable) return;\n",
       "\n",
       "          const docLinkHtml = 'Like what you see? Visit the ' +\n",
       "            '<a target=\"_blank\" href=https://colab.research.google.com/notebooks/data_table.ipynb>data table notebook</a>'\n",
       "            + ' to learn more about interactive tables.';\n",
       "          element.innerHTML = '';\n",
       "          dataTable['output_type'] = 'display_data';\n",
       "          await google.colab.output.renderOutput(dataTable, element);\n",
       "          const docLink = document.createElement('div');\n",
       "          docLink.innerHTML = docLinkHtml;\n",
       "          element.appendChild(docLink);\n",
       "        }\n",
       "      </script>\n",
       "    </div>\n",
       "  </div>\n",
       "  "
      ],
      "text/plain": [
       "     EmpID     LastName FirstName     JobDesc    JoinDate  Salary  Comm DeptID\n",
       "0   742866      Bacchan   Amitabh   Executive  2003-03-10   50000  0.10     10\n",
       "1   349870    Mukherjee      Rani     Manager  2005-05-04   25000  0.06     40\n",
       "2   865477      Dikshit   Madhuri       Clerk  2002-04-04   10000  0.02     20\n",
       "3   239456         Khan  Shahrukh     Manager  2004-01-03   30000  0.07     20\n",
       "4   897889       Sehwag  Virender     Cus_Rep  2005-01-02   15000  0.05     20\n",
       "5   123980        Dhoni  Mahender       Clerk  2004-10-09    9000  0.02     40\n",
       "6   822134       Dravid     Rahul  Sr Manager  2000-06-04   40000  0.08     30\n",
       "7   997445       Dalmia  Jagmohan       Clerk  2001-07-01   12000  0.02     30\n",
       "8   989007      Ganguly    Sourav     Cus_Rep  2002-01-01   20000  0.03     40\n",
       "9   299034      Ganesan     Rekha    Director  2002-10-10   60000  0.11     10\n",
       "10  546223  Karthikeyan   Narayan   Secretary  2005-12-04   40000  0.09     10\n",
       "11  223112        Mirza     Sania     Cus_Rep  2001-11-19   25000  0.04     30"
      ]
     },
     "execution_count": 10,
     "metadata": {},
     "output_type": "execute_result"
    }
   ],
   "source": [
    "location = 'remoteDB'\n",
    "runSELECT(location,'select * from Emp') "
   ]
  },
  {
   "cell_type": "code",
   "execution_count": 12,
   "metadata": {
    "colab": {
     "base_uri": "https://localhost:8080/",
     "height": 175
    },
    "executionInfo": {
     "elapsed": 1130,
     "status": "ok",
     "timestamp": 1645265823769,
     "user": {
      "displayName": "Antarlin Chanda",
      "photoUrl": "https://lh3.googleusercontent.com/a/default-user=s64",
      "userId": "03652757900141092475"
     },
     "user_tz": -330
    },
    "id": "Z19cD7eeeS1h",
    "outputId": "08fe60dd-3404-4678-c22a-0393defaeab7"
   },
   "outputs": [
    {
     "data": {
      "text/html": [
       "\n",
       "  <div id=\"df-ea86a93b-7a96-4b3a-bf8d-7f92cfb1518b\">\n",
       "    <div class=\"colab-df-container\">\n",
       "      <div>\n",
       "<style scoped>\n",
       "    .dataframe tbody tr th:only-of-type {\n",
       "        vertical-align: middle;\n",
       "    }\n",
       "\n",
       "    .dataframe tbody tr th {\n",
       "        vertical-align: top;\n",
       "    }\n",
       "\n",
       "    .dataframe thead th {\n",
       "        text-align: right;\n",
       "    }\n",
       "</style>\n",
       "<table border=\"1\" class=\"dataframe\">\n",
       "  <thead>\n",
       "    <tr style=\"text-align: right;\">\n",
       "      <th></th>\n",
       "      <th>FirstName</th>\n",
       "      <th>JobDesc</th>\n",
       "    </tr>\n",
       "  </thead>\n",
       "  <tbody>\n",
       "    <tr>\n",
       "      <th>0</th>\n",
       "      <td>Amitabh</td>\n",
       "      <td>Executive</td>\n",
       "    </tr>\n",
       "    <tr>\n",
       "      <th>1</th>\n",
       "      <td>Rahul</td>\n",
       "      <td>Sr Manager</td>\n",
       "    </tr>\n",
       "    <tr>\n",
       "      <th>2</th>\n",
       "      <td>Rekha</td>\n",
       "      <td>Director</td>\n",
       "    </tr>\n",
       "    <tr>\n",
       "      <th>3</th>\n",
       "      <td>Narayan</td>\n",
       "      <td>Secretary</td>\n",
       "    </tr>\n",
       "  </tbody>\n",
       "</table>\n",
       "</div>\n",
       "      <button class=\"colab-df-convert\" onclick=\"convertToInteractive('df-ea86a93b-7a96-4b3a-bf8d-7f92cfb1518b')\"\n",
       "              title=\"Convert this dataframe to an interactive table.\"\n",
       "              style=\"display:none;\">\n",
       "        \n",
       "  <svg xmlns=\"http://www.w3.org/2000/svg\" height=\"24px\"viewBox=\"0 0 24 24\"\n",
       "       width=\"24px\">\n",
       "    <path d=\"M0 0h24v24H0V0z\" fill=\"none\"/>\n",
       "    <path d=\"M18.56 5.44l.94 2.06.94-2.06 2.06-.94-2.06-.94-.94-2.06-.94 2.06-2.06.94zm-11 1L8.5 8.5l.94-2.06 2.06-.94-2.06-.94L8.5 2.5l-.94 2.06-2.06.94zm10 10l.94 2.06.94-2.06 2.06-.94-2.06-.94-.94-2.06-.94 2.06-2.06.94z\"/><path d=\"M17.41 7.96l-1.37-1.37c-.4-.4-.92-.59-1.43-.59-.52 0-1.04.2-1.43.59L10.3 9.45l-7.72 7.72c-.78.78-.78 2.05 0 2.83L4 21.41c.39.39.9.59 1.41.59.51 0 1.02-.2 1.41-.59l7.78-7.78 2.81-2.81c.8-.78.8-2.07 0-2.86zM5.41 20L4 18.59l7.72-7.72 1.47 1.35L5.41 20z\"/>\n",
       "  </svg>\n",
       "      </button>\n",
       "      \n",
       "  <style>\n",
       "    .colab-df-container {\n",
       "      display:flex;\n",
       "      flex-wrap:wrap;\n",
       "      gap: 12px;\n",
       "    }\n",
       "\n",
       "    .colab-df-convert {\n",
       "      background-color: #E8F0FE;\n",
       "      border: none;\n",
       "      border-radius: 50%;\n",
       "      cursor: pointer;\n",
       "      display: none;\n",
       "      fill: #1967D2;\n",
       "      height: 32px;\n",
       "      padding: 0 0 0 0;\n",
       "      width: 32px;\n",
       "    }\n",
       "\n",
       "    .colab-df-convert:hover {\n",
       "      background-color: #E2EBFA;\n",
       "      box-shadow: 0px 1px 2px rgba(60, 64, 67, 0.3), 0px 1px 3px 1px rgba(60, 64, 67, 0.15);\n",
       "      fill: #174EA6;\n",
       "    }\n",
       "\n",
       "    [theme=dark] .colab-df-convert {\n",
       "      background-color: #3B4455;\n",
       "      fill: #D2E3FC;\n",
       "    }\n",
       "\n",
       "    [theme=dark] .colab-df-convert:hover {\n",
       "      background-color: #434B5C;\n",
       "      box-shadow: 0px 1px 3px 1px rgba(0, 0, 0, 0.15);\n",
       "      filter: drop-shadow(0px 1px 2px rgba(0, 0, 0, 0.3));\n",
       "      fill: #FFFFFF;\n",
       "    }\n",
       "  </style>\n",
       "\n",
       "      <script>\n",
       "        const buttonEl =\n",
       "          document.querySelector('#df-ea86a93b-7a96-4b3a-bf8d-7f92cfb1518b button.colab-df-convert');\n",
       "        buttonEl.style.display =\n",
       "          google.colab.kernel.accessAllowed ? 'block' : 'none';\n",
       "\n",
       "        async function convertToInteractive(key) {\n",
       "          const element = document.querySelector('#df-ea86a93b-7a96-4b3a-bf8d-7f92cfb1518b');\n",
       "          const dataTable =\n",
       "            await google.colab.kernel.invokeFunction('convertToInteractive',\n",
       "                                                     [key], {});\n",
       "          if (!dataTable) return;\n",
       "\n",
       "          const docLinkHtml = 'Like what you see? Visit the ' +\n",
       "            '<a target=\"_blank\" href=https://colab.research.google.com/notebooks/data_table.ipynb>data table notebook</a>'\n",
       "            + ' to learn more about interactive tables.';\n",
       "          element.innerHTML = '';\n",
       "          dataTable['output_type'] = 'display_data';\n",
       "          await google.colab.output.renderOutput(dataTable, element);\n",
       "          const docLink = document.createElement('div');\n",
       "          docLink.innerHTML = docLinkHtml;\n",
       "          element.appendChild(docLink);\n",
       "        }\n",
       "      </script>\n",
       "    </div>\n",
       "  </div>\n",
       "  "
      ],
      "text/plain": [
       "  FirstName     JobDesc\n",
       "0   Amitabh   Executive\n",
       "1     Rahul  Sr Manager\n",
       "2     Rekha    Director\n",
       "3   Narayan   Secretary"
      ]
     },
     "execution_count": 12,
     "metadata": {},
     "output_type": "execute_result"
    }
   ],
   "source": [
    "location = 'remoteDB'\n",
    "runSELECT(location,'select FirstName,JobDesc from Emp where Salary>30000') "
   ]
  },
  {
   "cell_type": "markdown",
   "metadata": {
    "id": "4phrtjaE_tyS"
   },
   "source": [
    "#Chronobooks <br>\n",
    "![alt text](https://1.bp.blogspot.com/-lTiYBkU2qbU/X1er__fvnkI/AAAAAAAAjtE/GhDR3OEGJr4NG43fZPodrQD5kbxtnKebgCLcBGAsYHQ/s600/Footer2020-600x200.png)<hr>\n",
    "Chronotantra and Chronoyantra are two science fiction novels that explore the collapse of human civilisation on Earth and then its rebirth and reincarnation both on Earth as well as on the distant worlds of Mars, Titan and Enceladus. But is it the human civilisation that is being reborn? Or is it some other sentience that is revealing itself. \n",
    "If you have an interest in AI and found this material useful, you may consider buying these novels, in paperback or kindle, from [http://bit.ly/chronobooks](http://bit.ly/chronobooks)"
   ]
  }
 ],
 "metadata": {
  "colab": {
   "collapsed_sections": [],
   "name": "Copy of SQL+Pandas : Getting Started",
   "provenance": [
    {
     "file_id": "https://github.com/Praxis-QR/RDWH/blob/main/SQL%2BPandas_Getting_Started.ipynb",
     "timestamp": 1644837731760
    }
   ],
   "toc_visible": true
  },
  "kernelspec": {
   "display_name": "Python 3 (ipykernel)",
   "language": "python",
   "name": "python3"
  },
  "language_info": {
   "codemirror_mode": {
    "name": "ipython",
    "version": 3
   },
   "file_extension": ".py",
   "mimetype": "text/x-python",
   "name": "python",
   "nbconvert_exporter": "python",
   "pygments_lexer": "ipython3",
   "version": "3.9.7"
  }
 },
 "nbformat": 4,
 "nbformat_minor": 1
}
